{
 "cells": [
  {
   "cell_type": "markdown",
   "id": "b9866d1b-7ab5-4520-a6a8-93e8f0ce8477",
   "metadata": {},
   "source": [
    "# ALPHABET SOUP PROBLEM"
   ]
  },
  {
   "cell_type": "code",
   "execution_count": 8,
   "id": "1c45dd1c-73e3-4208-ac24-8bb844347846",
   "metadata": {},
   "outputs": [
    {
     "name": "stdout",
     "output_type": "stream",
     "text": [
      "ahjosu\n"
     ]
    }
   ],
   "source": [
    "def alphabet(x):\n",
    "# Sort the characters in the input string 'x'\n",
    "    return ''.join(sorted(x))\n",
    "print(alphabet(\"joshua\"))"
   ]
  },
  {
   "cell_type": "markdown",
   "id": "4fc8cca0-9530-4b15-ae55-8d7f58a86070",
   "metadata": {},
   "source": [
    "# EMOTICON PROBLEM"
   ]
  },
  {
   "cell_type": "code",
   "execution_count": 14,
   "id": "d9c8d343-2455-452e-9a10-3bdf24fd5dc9",
   "metadata": {},
   "outputs": [
    {
     "name": "stdout",
     "output_type": "stream",
     "text": [
      "I'm >:(\n"
     ]
    }
   ],
   "source": [
    "def remoticon(sentence):\n",
    "#Dictionary mapping emotion words to their corresponding emoticons\n",
    "    emo_dict = {\n",
    "        \"Smile\": \":)\",\n",
    "        \"Grin\": \":D\",\n",
    "        \"Sad\": \":((\",\n",
    "        \"Mad\": \">:(\"\n",
    "    }\n",
    "    for word, emoticon in emo_dict.items():\n",
    "#Replacing the word in the sentence with yhe corrresponding emoticon\n",
    "        sentence = sentence.replace(word, emoticon)\n",
    "    return sentence\n",
    "#Print the result\n",
    "print(remoticon(\"I'm Mad\"))"
   ]
  },
  {
   "cell_type": "markdown",
   "id": "b7e579b7-0b43-45ac-b3d6-ea072cb048d2",
   "metadata": {},
   "source": [
    "# UNPACKING LIST PROBLEM"
   ]
  },
  {
   "cell_type": "code",
   "execution_count": 16,
   "id": "ede35328-27ef-4b53-9d18-99f56fbf9bb4",
   "metadata": {},
   "outputs": [
    {
     "name": "stdout",
     "output_type": "stream",
     "text": [
      "First: 1\n",
      "Middle: [2, 3, 4, 5]\n",
      "Last: 6\n"
     ]
    }
   ],
   "source": [
    "#Define the list\n",
    "writeyourcodehere = [1, 2, 3, 4, 5, 6]\n",
    "#Unpack the list into three variables\n",
    "first, *middle, last = writeyourcodehere\n",
    "#Print the values\n",
    "print(\"First:\", first)\n",
    "print(\"Middle:\", middle)\n",
    "print(\"Last:\", last)"
   ]
  },
  {
   "cell_type": "code",
   "execution_count": null,
   "id": "84b0bd70-dcf9-48a5-b4ec-5033eee21482",
   "metadata": {},
   "outputs": [],
   "source": []
  },
  {
   "cell_type": "code",
   "execution_count": null,
   "id": "a297fe16-b726-491f-9ef0-f61dbefb0863",
   "metadata": {},
   "outputs": [],
   "source": []
  },
  {
   "cell_type": "code",
   "execution_count": null,
   "id": "b372569b-5714-4d15-8da8-f8e5306da725",
   "metadata": {},
   "outputs": [],
   "source": []
  }
 ],
 "metadata": {
  "kernelspec": {
   "display_name": "Python 3 (ipykernel)",
   "language": "python",
   "name": "python3"
  },
  "language_info": {
   "codemirror_mode": {
    "name": "ipython",
    "version": 3
   },
   "file_extension": ".py",
   "mimetype": "text/x-python",
   "name": "python",
   "nbconvert_exporter": "python",
   "pygments_lexer": "ipython3",
   "version": "3.12.4"
  }
 },
 "nbformat": 4,
 "nbformat_minor": 5
}
